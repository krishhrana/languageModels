{
  "cells": [
    {
      "cell_type": "code",
      "execution_count": null,
      "metadata": {
        "colab": {
          "base_uri": "https://localhost:8080/"
        },
        "id": "W0OQVdtmF0VS",
        "outputId": "3c2a4559-981f-414f-e517-1c71935992c1"
      },
      "outputs": [
        {
          "name": "stdout",
          "output_type": "stream",
          "text": [
            "--2023-10-04 16:57:41--  https://raw.githubusercontent.com/karpathy/char-rnn/master/data/tinyshakespeare/input.txt\n",
            "Resolving raw.githubusercontent.com (raw.githubusercontent.com)... 185.199.108.133, 185.199.109.133, 185.199.110.133, ...\n",
            "Connecting to raw.githubusercontent.com (raw.githubusercontent.com)|185.199.108.133|:443... connected.\n",
            "HTTP request sent, awaiting response... 200 OK\n",
            "Length: 1115394 (1.1M) [text/plain]\n",
            "Saving to: ‘input.txt’\n",
            "\n",
            "input.txt           100%[===================>]   1.06M  --.-KB/s    in 0.04s   \n",
            "\n",
            "2023-10-04 16:57:42 (23.8 MB/s) - ‘input.txt’ saved [1115394/1115394]\n",
            "\n"
          ]
        }
      ],
      "source": [
        "!wget https://raw.githubusercontent.com/karpathy/char-rnn/master/data/tinyshakespeare/input.txt"
      ]
    },
    {
      "cell_type": "code",
      "execution_count": null,
      "metadata": {
        "colab": {
          "base_uri": "https://localhost:8080/"
        },
        "id": "O7qKK114cKQi",
        "outputId": "0d1ed6be-7016-47ba-a7b8-eaffb13cad0a"
      },
      "outputs": [
        {
          "name": "stdout",
          "output_type": "stream",
          "text": [
            "Collecting torchsummaryX\n",
            "  Downloading torchsummaryX-1.3.0-py3-none-any.whl (3.6 kB)\n",
            "Collecting wandb\n",
            "  Downloading wandb-0.15.11-py3-none-any.whl (2.1 MB)\n",
            "\u001b[2K     \u001b[90m━━━━━━━━━━━━━━━━━━━━━━━━━━━━━━━━━━━━━━━━\u001b[0m \u001b[32m2.1/2.1 MB\u001b[0m \u001b[31m9.3 MB/s\u001b[0m eta \u001b[36m0:00:00\u001b[0m\n",
            "\u001b[?25hRequirement already satisfied: torch in /usr/local/lib/python3.10/dist-packages (from torchsummaryX) (2.0.1+cu118)\n",
            "Requirement already satisfied: numpy in /usr/local/lib/python3.10/dist-packages (from torchsummaryX) (1.23.5)\n",
            "Requirement already satisfied: pandas in /usr/local/lib/python3.10/dist-packages (from torchsummaryX) (1.5.3)\n",
            "Requirement already satisfied: Click!=8.0.0,>=7.1 in /usr/local/lib/python3.10/dist-packages (from wandb) (8.1.7)\n",
            "Collecting GitPython!=3.1.29,>=1.0.0 (from wandb)\n",
            "  Downloading GitPython-3.1.37-py3-none-any.whl (190 kB)\n",
            "\u001b[2K     \u001b[90m━━━━━━━━━━━━━━━━━━━━━━━━━━━━━━━━━━━━━━━\u001b[0m \u001b[32m190.0/190.0 kB\u001b[0m \u001b[31m8.7 MB/s\u001b[0m eta \u001b[36m0:00:00\u001b[0m\n",
            "\u001b[?25hRequirement already satisfied: requests<3,>=2.0.0 in /usr/local/lib/python3.10/dist-packages (from wandb) (2.31.0)\n",
            "Requirement already satisfied: psutil>=5.0.0 in /usr/local/lib/python3.10/dist-packages (from wandb) (5.9.5)\n",
            "Collecting sentry-sdk>=1.0.0 (from wandb)\n",
            "  Downloading sentry_sdk-1.31.0-py2.py3-none-any.whl (224 kB)\n",
            "\u001b[2K     \u001b[90m━━━━━━━━━━━━━━━━━━━━━━━━━━━━━━━━━━━━━━\u001b[0m \u001b[32m224.8/224.8 kB\u001b[0m \u001b[31m10.4 MB/s\u001b[0m eta \u001b[36m0:00:00\u001b[0m\n",
            "\u001b[?25hCollecting docker-pycreds>=0.4.0 (from wandb)\n",
            "  Downloading docker_pycreds-0.4.0-py2.py3-none-any.whl (9.0 kB)\n",
            "Requirement already satisfied: PyYAML in /usr/local/lib/python3.10/dist-packages (from wandb) (6.0.1)\n",
            "Collecting pathtools (from wandb)\n",
            "  Downloading pathtools-0.1.2.tar.gz (11 kB)\n",
            "  Preparing metadata (setup.py) ... \u001b[?25l\u001b[?25hdone\n",
            "Collecting setproctitle (from wandb)\n",
            "  Downloading setproctitle-1.3.3-cp310-cp310-manylinux_2_5_x86_64.manylinux1_x86_64.manylinux_2_17_x86_64.manylinux2014_x86_64.whl (30 kB)\n",
            "Requirement already satisfied: setuptools in /usr/local/lib/python3.10/dist-packages (from wandb) (67.7.2)\n",
            "Requirement already satisfied: appdirs>=1.4.3 in /usr/local/lib/python3.10/dist-packages (from wandb) (1.4.4)\n",
            "Requirement already satisfied: protobuf!=4.21.0,<5,>=3.19.0 in /usr/local/lib/python3.10/dist-packages (from wandb) (3.20.3)\n",
            "Requirement already satisfied: six>=1.4.0 in /usr/local/lib/python3.10/dist-packages (from docker-pycreds>=0.4.0->wandb) (1.16.0)\n",
            "Collecting gitdb<5,>=4.0.1 (from GitPython!=3.1.29,>=1.0.0->wandb)\n",
            "  Downloading gitdb-4.0.10-py3-none-any.whl (62 kB)\n",
            "\u001b[2K     \u001b[90m━━━━━━━━━━━━━━━━━━━━━━━━━━━━━━━━━━━━━━━━\u001b[0m \u001b[32m62.7/62.7 kB\u001b[0m \u001b[31m6.6 MB/s\u001b[0m eta \u001b[36m0:00:00\u001b[0m\n",
            "\u001b[?25hRequirement already satisfied: charset-normalizer<4,>=2 in /usr/local/lib/python3.10/dist-packages (from requests<3,>=2.0.0->wandb) (3.2.0)\n",
            "Requirement already satisfied: idna<4,>=2.5 in /usr/local/lib/python3.10/dist-packages (from requests<3,>=2.0.0->wandb) (3.4)\n",
            "Requirement already satisfied: urllib3<3,>=1.21.1 in /usr/local/lib/python3.10/dist-packages (from requests<3,>=2.0.0->wandb) (2.0.5)\n",
            "Requirement already satisfied: certifi>=2017.4.17 in /usr/local/lib/python3.10/dist-packages (from requests<3,>=2.0.0->wandb) (2023.7.22)\n",
            "Requirement already satisfied: python-dateutil>=2.8.1 in /usr/local/lib/python3.10/dist-packages (from pandas->torchsummaryX) (2.8.2)\n",
            "Requirement already satisfied: pytz>=2020.1 in /usr/local/lib/python3.10/dist-packages (from pandas->torchsummaryX) (2023.3.post1)\n",
            "Requirement already satisfied: filelock in /usr/local/lib/python3.10/dist-packages (from torch->torchsummaryX) (3.12.4)\n",
            "Requirement already satisfied: typing-extensions in /usr/local/lib/python3.10/dist-packages (from torch->torchsummaryX) (4.5.0)\n",
            "Requirement already satisfied: sympy in /usr/local/lib/python3.10/dist-packages (from torch->torchsummaryX) (1.12)\n",
            "Requirement already satisfied: networkx in /usr/local/lib/python3.10/dist-packages (from torch->torchsummaryX) (3.1)\n",
            "Requirement already satisfied: jinja2 in /usr/local/lib/python3.10/dist-packages (from torch->torchsummaryX) (3.1.2)\n",
            "Requirement already satisfied: triton==2.0.0 in /usr/local/lib/python3.10/dist-packages (from torch->torchsummaryX) (2.0.0)\n",
            "Requirement already satisfied: cmake in /usr/local/lib/python3.10/dist-packages (from triton==2.0.0->torch->torchsummaryX) (3.27.5)\n",
            "Requirement already satisfied: lit in /usr/local/lib/python3.10/dist-packages (from triton==2.0.0->torch->torchsummaryX) (17.0.1)\n",
            "Collecting smmap<6,>=3.0.1 (from gitdb<5,>=4.0.1->GitPython!=3.1.29,>=1.0.0->wandb)\n",
            "  Downloading smmap-5.0.1-py3-none-any.whl (24 kB)\n",
            "Requirement already satisfied: MarkupSafe>=2.0 in /usr/local/lib/python3.10/dist-packages (from jinja2->torch->torchsummaryX) (2.1.3)\n",
            "Requirement already satisfied: mpmath>=0.19 in /usr/local/lib/python3.10/dist-packages (from sympy->torch->torchsummaryX) (1.3.0)\n",
            "Building wheels for collected packages: pathtools\n",
            "  Building wheel for pathtools (setup.py) ... \u001b[?25l\u001b[?25hdone\n",
            "  Created wheel for pathtools: filename=pathtools-0.1.2-py3-none-any.whl size=8791 sha256=0fd5de308ae320a3f56dbcdac7c1d82335c72f162bcabcf941f3eccfb279e851\n",
            "  Stored in directory: /root/.cache/pip/wheels/e7/f3/22/152153d6eb222ee7a56ff8617d80ee5207207a8c00a7aab794\n",
            "Successfully built pathtools\n",
            "Installing collected packages: pathtools, smmap, setproctitle, sentry-sdk, docker-pycreds, gitdb, GitPython, wandb, torchsummaryX\n",
            "Successfully installed GitPython-3.1.37 docker-pycreds-0.4.0 gitdb-4.0.10 pathtools-0.1.2 sentry-sdk-1.31.0 setproctitle-1.3.3 smmap-5.0.1 torchsummaryX-1.3.0 wandb-0.15.11\n"
          ]
        }
      ],
      "source": [
        "!pip install torchsummaryX wandb"
      ]
    },
    {
      "cell_type": "code",
      "execution_count": null,
      "metadata": {
        "colab": {
          "base_uri": "https://localhost:8080/"
        },
        "id": "ipk92L2tEDKB",
        "outputId": "dbb3300b-245e-4fab-b647-3b412435ebb0"
      },
      "outputs": [
        {
          "name": "stdout",
          "output_type": "stream",
          "text": [
            "Mounted at /content/drive\n"
          ]
        }
      ],
      "source": [
        "from google.colab import drive\n",
        "drive.mount('/content/drive')"
      ]
    },
    {
      "cell_type": "markdown",
      "metadata": {
        "id": "vNgc2JFotW2e"
      },
      "source": []
    },
    {
      "cell_type": "code",
      "execution_count": null,
      "metadata": {
        "id": "aPOCSCdc8m63"
      },
      "outputs": [],
      "source": [
        "import torch\n",
        "import numpy as np\n",
        "import torch.nn.functional as F\n",
        "import wandb\n",
        "\n",
        "device = 'cuda' if torch.cuda.is_available() else 'cpu'"
      ]
    },
    {
      "cell_type": "code",
      "execution_count": null,
      "metadata": {
        "colab": {
          "base_uri": "https://localhost:8080/"
        },
        "id": "b3-KGlKJF-Sq",
        "outputId": "3caaa144-0de3-45f5-944c-e5eee5851405"
      },
      "outputs": [
        {
          "name": "stdout",
          "output_type": "stream",
          "text": [
            "1115394\n"
          ]
        }
      ],
      "source": [
        "with open('input.txt', 'r') as f:\n",
        "    text = f.read()\n",
        "\n",
        "print(len(text))"
      ]
    },
    {
      "cell_type": "code",
      "execution_count": null,
      "metadata": {
        "colab": {
          "base_uri": "https://localhost:8080/"
        },
        "id": "l1Gu_xIHGHen",
        "outputId": "3ff94f7c-f7fb-4ec0-f1fa-c8145d8ada60"
      },
      "outputs": [
        {
          "name": "stdout",
          "output_type": "stream",
          "text": [
            "['\\n', ' ', '!', '$', '&', \"'\", ',', '-', '.', '3', ':', ';', '?', 'A', 'B', 'C', 'D', 'E', 'F', 'G', 'H', 'I', 'J', 'K', 'L', 'M', 'N', 'O', 'P', 'Q', 'R', 'S', 'T', 'U', 'V', 'W', 'X', 'Y', 'Z', 'a', 'b', 'c', 'd', 'e', 'f', 'g', 'h', 'i', 'j', 'k', 'l', 'm', 'n', 'o', 'p', 'q', 'r', 's', 't', 'u', 'v', 'w', 'x', 'y', 'z']\n",
            "65\n"
          ]
        }
      ],
      "source": [
        "vocabulary = sorted(list(set(text)))\n",
        "vocab_size = len(vocabulary)\n",
        "print(vocabulary)\n",
        "print(vocab_size)"
      ]
    },
    {
      "cell_type": "code",
      "execution_count": null,
      "metadata": {
        "colab": {
          "base_uri": "https://localhost:8080/"
        },
        "id": "b82YdqnFGX7I",
        "outputId": "7271fb61-832b-44a5-eb4e-bd7b3fcdc7aa"
      },
      "outputs": [
        {
          "name": "stdout",
          "output_type": "stream",
          "text": [
            "[20, 47, 1, 58, 46, 43, 56, 43, 2]\n",
            "Hi there!\n"
          ]
        }
      ],
      "source": [
        "vocab_to_int = {v:i for i, v in enumerate(vocabulary)}\n",
        "int_to_vocab = {i:v for i, v in enumerate(vocabulary)}\n",
        "\n",
        "encode = lambda x: [vocab_to_int[i] for i in x]\n",
        "decode = lambda x: \"\".join([int_to_vocab[i] for i in x])\n",
        "\n",
        "enc_text = \"Hi there!\"\n",
        "enc = encode(enc_text)\n",
        "dec = decode(enc)\n",
        "print(enc)\n",
        "print(dec)"
      ]
    },
    {
      "cell_type": "code",
      "execution_count": null,
      "metadata": {
        "colab": {
          "base_uri": "https://localhost:8080/",
          "height": 35
        },
        "id": "B0HRWqZWota-",
        "outputId": "fd1b7f4b-3518-4eda-8b69-4b67cda64e37"
      },
      "outputs": [
        {
          "data": {
            "application/vnd.google.colaboratory.intrinsic+json": {
              "type": "string"
            },
            "text/plain": [
              "'Hi there!'"
            ]
          },
          "execution_count": 8,
          "metadata": {},
          "output_type": "execute_result"
        }
      ],
      "source": [
        "decode([20, 47, 1, 58, 46, 43, 56, 43, 2])"
      ]
    },
    {
      "cell_type": "code",
      "execution_count": null,
      "metadata": {
        "id": "yjajDl5TPGL1"
      },
      "outputs": [],
      "source": [
        "dataset = torch.tensor(encode(text), dtype = torch.long)\n",
        "train_data = dataset[:int(0.9 * len(dataset))]\n",
        "val_data = dataset[int(0.9 * len(dataset)): int(0.97 * len(dataset))]\n",
        "test_data = dataset[int(0.97 * len(dataset)): ]"
      ]
    },
    {
      "cell_type": "code",
      "execution_count": null,
      "metadata": {
        "id": "v9Bx6PEctfhc"
      },
      "outputs": [],
      "source": [
        "class ShaksphereDataLoader(torch.utils.data.DataLoader):\n",
        "    def __init__(self, dataset, seq_len, batch_size):\n",
        "        self.dataset = dataset\n",
        "        self.seq_len = seq_len\n",
        "        self.batch_size = batch_size\n",
        "        self.sub_seq = (len(dataset) // self.seq_len)\n",
        "        self.num_batches = self.sub_seq // self.batch_size\n",
        "\n",
        "    def __len__(self):\n",
        "        return self.num_batches\n",
        "\n",
        "    def __iter__(self):\n",
        "        offsets = torch.randperm(len(self.dataset) - self.seq_len)[:self.sub_seq]\n",
        "        inputs = torch.stack([self.dataset[i: i + self.seq_len] for i in offsets])\n",
        "        outputs = torch.stack([self.dataset[i + 1: i + 1 + self.seq_len] for i in offsets])\n",
        "        rem = inputs.shape[0] % self.batch_size\n",
        "        if rem != 0:\n",
        "            inputs = inputs[:-rem, :].reshape(self.num_batches, self.batch_size, self.seq_len)\n",
        "            outputs = outputs[:-rem, :].reshape(self.num_batches, self.batch_size, self.seq_len)\n",
        "        else:\n",
        "            inputs = inputs.reshape(self.num_batches, self.batch_size, self.seq_len)\n",
        "            outputs = outputs.reshape(self.num_batches, self.batch_size, self.seq_len)\n",
        "\n",
        "        batch_idx = 0\n",
        "        while batch_idx < self.num_batches:\n",
        "            yield inputs[batch_idx, : , :].to(device), outputs[batch_idx, :, :].to(device)\n",
        "            batch_idx = batch_idx + 1\n",
        "\n",
        "\n",
        "\n"
      ]
    },
    {
      "cell_type": "code",
      "execution_count": null,
      "metadata": {
        "id": "bCvKqVdagWEV"
      },
      "outputs": [],
      "source": [
        "ModelConfig = {\n",
        "    'seq_len': 256,\n",
        "    \"batch_size\": 128,\n",
        "    'embed_dim': 512,\n",
        "    'qk_dim': 512\n",
        "}\n",
        "\n",
        "seq_len = ModelConfig['seq_len']\n",
        "batch_size = ModelConfig['batch_size']\n",
        "embed_dim = ModelConfig['embed_dim']\n",
        "qk_dim = ModelConfig['qk_dim']\n",
        "value_dim = ModelConfig['embed_dim']\n",
        "model_size = ModelConfig['embed_dim']"
      ]
    },
    {
      "cell_type": "code",
      "execution_count": null,
      "metadata": {
        "colab": {
          "base_uri": "https://localhost:8080/"
        },
        "id": "J4KsyXeWwTFT",
        "outputId": "d6aa0c5f-c58b-4aef-e06b-8038f2ccc51a"
      },
      "outputs": [
        {
          "name": "stdout",
          "output_type": "stream",
          "text": [
            "30\n",
            "2\n"
          ]
        }
      ],
      "source": [
        "train_loader = ShaksphereDataLoader(train_data, seq_len = ModelConfig['seq_len'], batch_size = ModelConfig['batch_size'])\n",
        "val_loader = ShaksphereDataLoader(val_data, seq_len = ModelConfig['seq_len'], batch_size = ModelConfig['batch_size'])\n",
        "print(len(train_loader))\n",
        "print(len(val_loader))"
      ]
    },
    {
      "cell_type": "code",
      "execution_count": null,
      "metadata": {
        "colab": {
          "base_uri": "https://localhost:8080/"
        },
        "id": "f8PbJU1CPGTE",
        "outputId": "e70311ee-f064-4e07-880b-f5c15efb4d9e"
      },
      "outputs": [
        {
          "name": "stdout",
          "output_type": "stream",
          "text": [
            "torch.Size([128, 256])\n",
            "torch.Size([128, 256])\n"
          ]
        }
      ],
      "source": [
        "for i in train_loader:\n",
        "    x, y = i[0], i[1]\n",
        "    break\n",
        "print(x.shape)\n",
        "print(y.shape)"
      ]
    },
    {
      "cell_type": "code",
      "execution_count": null,
      "metadata": {
        "colab": {
          "base_uri": "https://localhost:8080/"
        },
        "id": "ElD9FCq3reSB",
        "outputId": "fddcdf44-267d-4ce6-ac3c-10f02311659b"
      },
      "outputs": [
        {
          "name": "stdout",
          "output_type": "stream",
          "text": [
            "cpu\n",
            "cpu\n"
          ]
        }
      ],
      "source": [
        "print(x.device)\n",
        "print(y.device)"
      ]
    },
    {
      "cell_type": "code",
      "execution_count": null,
      "metadata": {
        "id": "-VC6Ulm-z061"
      },
      "outputs": [],
      "source": [
        "class MaskedAttention(torch.nn.Module):\n",
        "    def __init__(self):\n",
        "        super().__init__()\n",
        "        self.query_layer = torch.nn.Linear(embed_dim, embed_dim, bias = False)\n",
        "        self.key_layer = torch.nn.Linear(embed_dim, qk_dim, bias = False)\n",
        "        self.value_layer = torch.nn.Linear(embed_dim, value_dim, bias = False)\n",
        "        self.mask = torch.tril(torch.ones(seq_len, seq_len)).to(device)\n",
        "\n",
        "\n",
        "\n",
        "    def forward(self, tok_embeddings, return_attention_weights = False):\n",
        "        B, T, C = tok_embeddings.shape\n",
        "        Q = self.query_layer(tok_embeddings) # (B, T, qk)\n",
        "        K = self.key_layer(tok_embeddings)   # (B, T, qk)\n",
        "        V = self.value_layer(tok_embeddings) # (B, T, v)\n",
        "\n",
        "        affinities = (Q @ K.transpose(-1, -2)) * K.shape[-1] ** -0.5 # (B, T, T)\n",
        "        affinities = affinities.masked_fill(self.mask[:T, :T] == 0, float('-inf'))\n",
        "\n",
        "        attention_weights = F.softmax(affinities, dim = -1) # (B, T, T)\n",
        "\n",
        "        if return_attention_weights:\n",
        "            return attention_weights @ V, attention_weights\n",
        "        return attention_weights @ V  # (B, T, v)"
      ]
    },
    {
      "cell_type": "code",
      "execution_count": null,
      "metadata": {
        "id": "Qe23hrp2BHIp"
      },
      "outputs": [],
      "source": [
        "class MultiHeadAttention(torch.nn.Module):\n",
        "    def __init__(self, num_heads, head_size):\n",
        "        super().__init__()\n",
        "        self.num_heads = num_heads\n",
        "        self.head_size = head_size\n",
        "        self.mini_head_size = int(self.head_size / self.num_heads)\n",
        "\n",
        "        self.query = torch.nn.Linear(embed_dim, self.head_size)\n",
        "        self.key = torch.nn.Linear(embed_dim, self.head_size)\n",
        "        self.value = torch.nn.Linear(embed_dim, self.head_size)\n",
        "        self.up_project = torch.nn.Linear(self.num_heads * self.mini_head_size, head_size)\n",
        "        self.mask = torch.tril(torch.ones(seq_len, seq_len)).to(device)\n",
        "\n",
        "\n",
        "\n",
        "    def forward(self, tok_embeddings, return_attention_weights = False):\n",
        "        B, T, C = tok_embeddings.shape\n",
        "        Q = self.query(tok_embeddings)\n",
        "        K = self.key(tok_embeddings)\n",
        "        V = self.value(tok_embeddings)\n",
        "\n",
        "        # Reshape into N sub heads for parallel processing\n",
        "        mini_Q = Q.view(B, T, self.num_heads, self.mini_head_size).permute(0, 2, 1, 3) # (B, nh, T, mini_head)\n",
        "        mini_K = K.view(B, T, self.num_heads, self.mini_head_size).permute(0, 2, 1, 3) # (B, nh, T, mini_head)\n",
        "        mini_V = V.view(B, T, self.num_heads, self.mini_head_size).permute(0, 2, 1, 3) # (B, nh, T, mini_head)\n",
        "\n",
        "        # Scaled dot Product\n",
        "        affinities = (mini_Q @ mini_K.transpose(-1, -2)) * (self.mini_head_size ** -0.5) #  (B, nh, T, T)\n",
        "        # Makes it causal decoder\n",
        "        affinities = affinities.masked_fill(self.mask[:T, :T] == 0, float(\"-inf\"))\n",
        "        attention_weights = F.softmax(affinities, dim = -1) # (B, nh, T, T)\n",
        "\n",
        "        # weighted vlaues for each head\n",
        "        mini_head_weighted_values = attention_weights @ mini_V # (B, nh, T, mini_head)\n",
        "        # Concatenating each mini_head outputs\n",
        "        mini_head_weighted_values = mini_head_weighted_values.permute(0, 2, 1, 3)\n",
        "        head_weighted_values = mini_head_weighted_values.reshape(B, T, self.mini_head_size * self.num_heads) # (B, T, head_size)\n",
        "\n",
        "        if return_attention_weights:\n",
        "            return self.up_project(head_weighted_values), attention_weights\n",
        "        return self.up_project(head_weighted_values) # (B, T, head_size)\n",
        "\n",
        "\n",
        "\n",
        "\n",
        "\n",
        "\n",
        "\n"
      ]
    },
    {
      "cell_type": "code",
      "execution_count": null,
      "metadata": {
        "id": "72653NNeNqAZ"
      },
      "outputs": [],
      "source": [
        "class DecoderBlock(torch.nn.Module):\n",
        "    def __init__(self, num_heads):\n",
        "        super().__init__()\n",
        "        self.attention = MultiHeadAttention(num_heads=num_heads, head_size=model_size)\n",
        "        self.layer_norm_1 = torch.nn.LayerNorm(model_size)\n",
        "        self.linear_1 = torch.nn.Linear(model_size, model_size)\n",
        "        self.linear_2 = torch.nn.Linear(model_size, model_size)\n",
        "        self.relu = torch.nn.ReLU()\n",
        "        self.layer_norm_2 = torch.nn.LayerNorm(model_size)\n",
        "        self.dropout_1 = torch.nn.Dropout(0.1)\n",
        "        self.dropout_2 = torch.nn.Dropout(0.1)\n",
        "\n",
        "    def forward(self, embeddings, return_attention_weights = False):\n",
        "        # tokens ---> (B, T, embed_size)\n",
        "        B, T, C = embeddings.shape\n",
        "\n",
        "        # Attention\n",
        "        if return_attention_weights:\n",
        "            weighted_values, attention_weights = self.attention.forward(embeddings, return_attention_weights)\n",
        "        else:\n",
        "            weighted_values = self.attention.forward(embeddings) # (B, T, embed_dim)\n",
        "\n",
        "        # Attention Norm + dropout\n",
        "        weighted_values_drp = self.dropout_1(weighted_values)\n",
        "        norm_values = self.layer_norm_1(weighted_values_drp + embeddings) # (B, T, embed_dim)\n",
        "\n",
        "        # FFN + dropout\n",
        "        linear_1 = self.linear_1(norm_values)\n",
        "        act_vals = self.relu(linear_1)\n",
        "        linear_2 = self.linear_2(act_vals)\n",
        "        linear_2_drp = self.dropout_2(linear_2)\n",
        "\n",
        "        # LayerNorm\n",
        "        ffn_norm = self.layer_norm_2(norm_values + linear_2_drp) # (B, T, embed_dim)\n",
        "\n",
        "\n",
        "        if return_attention_weights:\n",
        "            return ffn_norm, attention_weights\n",
        "        return ffn_norm # (B, T, embed_dim)\n"
      ]
    },
    {
      "cell_type": "code",
      "execution_count": null,
      "metadata": {
        "id": "CibOSqOQTL4q"
      },
      "outputs": [],
      "source": [
        "class LanguageModel(torch.nn.Module):\n",
        "    def __init__(self):\n",
        "        super().__init__()\n",
        "        self.embedding_layer = torch.nn.Embedding(vocab_size, embed_dim)\n",
        "        self.positional_embedding = torch.nn.Embedding(seq_len, embed_dim)\n",
        "        self.dropout_0 = torch.nn.Dropout(0.1)\n",
        "        self.decoder_block_1 = DecoderBlock(num_heads=8)\n",
        "        self.decoder_block_2 = DecoderBlock(num_heads=8)\n",
        "        self.decoder_block_3 = DecoderBlock(num_heads=8)\n",
        "\n",
        "        self.projection = torch.nn.Linear(model_size, vocab_size)\n",
        "        self.projection.weight = self.embedding_layer.weight\n",
        "\n",
        "    def forward(self, tokens, return_attention_weights = False):\n",
        "        B, T = tokens.shape\n",
        "        # Token and Positional Embeddings + dropout\n",
        "        tok_embs = self.embedding_layer(tokens) # (B, T, embed_dim)\n",
        "        pos_embs = self.positional_embedding(torch.arange(T).to(device))\n",
        "        pos_tok_embs = tok_embs + pos_embs # (B, T, embed_dim)\n",
        "        pos_tok_embs_drp = self.dropout_0(pos_tok_embs)\n",
        "\n",
        "        # Decoder Blocks\n",
        "        decoder_1 = self.decoder_block_1.forward(pos_tok_embs)\n",
        "        decoder_2 = self.decoder_block_2.forward(decoder_1)\n",
        "        if return_attention_weights:\n",
        "            decoder_3, last_layer_attention_weights = self.decoder_block_3.forward(decoder_2, return_attention_weights=True)\n",
        "        else:\n",
        "            decoder_3 = self.decoder_block_3.forward(decoder_2)\n",
        "\n",
        "        # projection layer\n",
        "        logits = self.projection(decoder_3) # (B, T, vocab_size)\n",
        "\n",
        "        if return_attention_weights:\n",
        "            return logits, last_layer_attention_weights\n",
        "        return logits # (B, T, vocab_size)\n",
        "\n"
      ]
    },
    {
      "cell_type": "code",
      "execution_count": null,
      "metadata": {
        "colab": {
          "base_uri": "https://localhost:8080/",
          "height": 1000
        },
        "id": "fllG6UIz-kMK",
        "outputId": "b694eb1b-32e7-45cb-d528-57ce0a81cb8e"
      },
      "outputs": [
        {
          "name": "stdout",
          "output_type": "stream",
          "text": [
            "=================================================================================================\n",
            "                                               Kernel Shape     Output Shape  \\\n",
            "Layer                                                                          \n",
            "0_embedding_layer                                 [512, 65]  [128, 256, 512]   \n",
            "1_positional_embedding                           [512, 256]       [256, 512]   \n",
            "2_dropout_0                                               -  [128, 256, 512]   \n",
            "3_decoder_block_1.attention.Linear_query         [512, 512]  [128, 256, 512]   \n",
            "4_decoder_block_1.attention.Linear_key           [512, 512]  [128, 256, 512]   \n",
            "5_decoder_block_1.attention.Linear_value         [512, 512]  [128, 256, 512]   \n",
            "6_decoder_block_1.attention.Linear_up_project    [512, 512]  [128, 256, 512]   \n",
            "7_decoder_block_1.Dropout_dropout_1                       -  [128, 256, 512]   \n",
            "8_decoder_block_1.LayerNorm_layer_norm_1              [512]  [128, 256, 512]   \n",
            "9_decoder_block_1.Linear_linear_1                [512, 512]  [128, 256, 512]   \n",
            "10_decoder_block_1.ReLU_relu                              -  [128, 256, 512]   \n",
            "11_decoder_block_1.Linear_linear_2               [512, 512]  [128, 256, 512]   \n",
            "12_decoder_block_1.Dropout_dropout_2                      -  [128, 256, 512]   \n",
            "13_decoder_block_1.LayerNorm_layer_norm_2             [512]  [128, 256, 512]   \n",
            "14_decoder_block_2.attention.Linear_query        [512, 512]  [128, 256, 512]   \n",
            "15_decoder_block_2.attention.Linear_key          [512, 512]  [128, 256, 512]   \n",
            "16_decoder_block_2.attention.Linear_value        [512, 512]  [128, 256, 512]   \n",
            "17_decoder_block_2.attention.Linear_up_project   [512, 512]  [128, 256, 512]   \n",
            "18_decoder_block_2.Dropout_dropout_1                      -  [128, 256, 512]   \n",
            "19_decoder_block_2.LayerNorm_layer_norm_1             [512]  [128, 256, 512]   \n",
            "20_decoder_block_2.Linear_linear_1               [512, 512]  [128, 256, 512]   \n",
            "21_decoder_block_2.ReLU_relu                              -  [128, 256, 512]   \n",
            "22_decoder_block_2.Linear_linear_2               [512, 512]  [128, 256, 512]   \n",
            "23_decoder_block_2.Dropout_dropout_2                      -  [128, 256, 512]   \n",
            "24_decoder_block_2.LayerNorm_layer_norm_2             [512]  [128, 256, 512]   \n",
            "25_decoder_block_3.attention.Linear_query        [512, 512]  [128, 256, 512]   \n",
            "26_decoder_block_3.attention.Linear_key          [512, 512]  [128, 256, 512]   \n",
            "27_decoder_block_3.attention.Linear_value        [512, 512]  [128, 256, 512]   \n",
            "28_decoder_block_3.attention.Linear_up_project   [512, 512]  [128, 256, 512]   \n",
            "29_decoder_block_3.Dropout_dropout_1                      -  [128, 256, 512]   \n",
            "30_decoder_block_3.LayerNorm_layer_norm_1             [512]  [128, 256, 512]   \n",
            "31_decoder_block_3.Linear_linear_1               [512, 512]  [128, 256, 512]   \n",
            "32_decoder_block_3.ReLU_relu                              -  [128, 256, 512]   \n",
            "33_decoder_block_3.Linear_linear_2               [512, 512]  [128, 256, 512]   \n",
            "34_decoder_block_3.Dropout_dropout_2                      -  [128, 256, 512]   \n",
            "35_decoder_block_3.LayerNorm_layer_norm_2             [512]  [128, 256, 512]   \n",
            "36_projection                                     [512, 65]   [128, 256, 65]   \n",
            "\n",
            "                                                  Params Mult-Adds  \n",
            "Layer                                                               \n",
            "0_embedding_layer                                 33.28k    33.28k  \n",
            "1_positional_embedding                          131.072k  131.072k  \n",
            "2_dropout_0                                            -         -  \n",
            "3_decoder_block_1.attention.Linear_query        262.656k  262.144k  \n",
            "4_decoder_block_1.attention.Linear_key          262.656k  262.144k  \n",
            "5_decoder_block_1.attention.Linear_value        262.656k  262.144k  \n",
            "6_decoder_block_1.attention.Linear_up_project   262.656k  262.144k  \n",
            "7_decoder_block_1.Dropout_dropout_1                    -         -  \n",
            "8_decoder_block_1.LayerNorm_layer_norm_1          1.024k     512.0  \n",
            "9_decoder_block_1.Linear_linear_1               262.656k  262.144k  \n",
            "10_decoder_block_1.ReLU_relu                           -         -  \n",
            "11_decoder_block_1.Linear_linear_2              262.656k  262.144k  \n",
            "12_decoder_block_1.Dropout_dropout_2                   -         -  \n",
            "13_decoder_block_1.LayerNorm_layer_norm_2         1.024k     512.0  \n",
            "14_decoder_block_2.attention.Linear_query       262.656k  262.144k  \n",
            "15_decoder_block_2.attention.Linear_key         262.656k  262.144k  \n",
            "16_decoder_block_2.attention.Linear_value       262.656k  262.144k  \n",
            "17_decoder_block_2.attention.Linear_up_project  262.656k  262.144k  \n",
            "18_decoder_block_2.Dropout_dropout_1                   -         -  \n",
            "19_decoder_block_2.LayerNorm_layer_norm_1         1.024k     512.0  \n",
            "20_decoder_block_2.Linear_linear_1              262.656k  262.144k  \n",
            "21_decoder_block_2.ReLU_relu                           -         -  \n",
            "22_decoder_block_2.Linear_linear_2              262.656k  262.144k  \n",
            "23_decoder_block_2.Dropout_dropout_2                   -         -  \n",
            "24_decoder_block_2.LayerNorm_layer_norm_2         1.024k     512.0  \n",
            "25_decoder_block_3.attention.Linear_query       262.656k  262.144k  \n",
            "26_decoder_block_3.attention.Linear_key         262.656k  262.144k  \n",
            "27_decoder_block_3.attention.Linear_value       262.656k  262.144k  \n",
            "28_decoder_block_3.attention.Linear_up_project  262.656k  262.144k  \n",
            "29_decoder_block_3.Dropout_dropout_1                   -         -  \n",
            "30_decoder_block_3.LayerNorm_layer_norm_1         1.024k     512.0  \n",
            "31_decoder_block_3.Linear_linear_1              262.656k  262.144k  \n",
            "32_decoder_block_3.ReLU_relu                           -         -  \n",
            "33_decoder_block_3.Linear_linear_2              262.656k  262.144k  \n",
            "34_decoder_block_3.Dropout_dropout_2                   -         -  \n",
            "35_decoder_block_3.LayerNorm_layer_norm_2         1.024k     512.0  \n",
            "36_projection                                    33.345k    33.28k  \n",
            "-------------------------------------------------------------------------------------------------\n",
            "                         Totals\n",
            "Total params          4.931649M\n",
            "Trainable params      4.931649M\n",
            "Non-trainable params        0.0\n",
            "Mult-Adds             4.919296M\n",
            "=================================================================================================\n"
          ]
        },
        {
          "name": "stderr",
          "output_type": "stream",
          "text": [
            "/usr/local/lib/python3.10/dist-packages/torchsummaryX/torchsummaryX.py:101: FutureWarning: The default value of numeric_only in DataFrame.sum is deprecated. In a future version, it will default to False. In addition, specifying 'numeric_only=None' is deprecated. Select only valid columns or specify the value of numeric_only to silence this warning.\n",
            "  df_sum = df.sum()\n"
          ]
        },
        {
          "data": {
            "text/html": [
              "\n",
              "  <div id=\"df-16045281-9929-4897-832a-a429929ef616\" class=\"colab-df-container\">\n",
              "    <div>\n",
              "<style scoped>\n",
              "    .dataframe tbody tr th:only-of-type {\n",
              "        vertical-align: middle;\n",
              "    }\n",
              "\n",
              "    .dataframe tbody tr th {\n",
              "        vertical-align: top;\n",
              "    }\n",
              "\n",
              "    .dataframe thead th {\n",
              "        text-align: right;\n",
              "    }\n",
              "</style>\n",
              "<table border=\"1\" class=\"dataframe\">\n",
              "  <thead>\n",
              "    <tr style=\"text-align: right;\">\n",
              "      <th></th>\n",
              "      <th>Kernel Shape</th>\n",
              "      <th>Output Shape</th>\n",
              "      <th>Params</th>\n",
              "      <th>Mult-Adds</th>\n",
              "    </tr>\n",
              "    <tr>\n",
              "      <th>Layer</th>\n",
              "      <th></th>\n",
              "      <th></th>\n",
              "      <th></th>\n",
              "      <th></th>\n",
              "    </tr>\n",
              "  </thead>\n",
              "  <tbody>\n",
              "    <tr>\n",
              "      <th>0_embedding_layer</th>\n",
              "      <td>[512, 65]</td>\n",
              "      <td>[128, 256, 512]</td>\n",
              "      <td>33280.0</td>\n",
              "      <td>33280.0</td>\n",
              "    </tr>\n",
              "    <tr>\n",
              "      <th>1_positional_embedding</th>\n",
              "      <td>[512, 256]</td>\n",
              "      <td>[256, 512]</td>\n",
              "      <td>131072.0</td>\n",
              "      <td>131072.0</td>\n",
              "    </tr>\n",
              "    <tr>\n",
              "      <th>2_dropout_0</th>\n",
              "      <td>-</td>\n",
              "      <td>[128, 256, 512]</td>\n",
              "      <td>NaN</td>\n",
              "      <td>NaN</td>\n",
              "    </tr>\n",
              "    <tr>\n",
              "      <th>3_decoder_block_1.attention.Linear_query</th>\n",
              "      <td>[512, 512]</td>\n",
              "      <td>[128, 256, 512]</td>\n",
              "      <td>262656.0</td>\n",
              "      <td>262144.0</td>\n",
              "    </tr>\n",
              "    <tr>\n",
              "      <th>4_decoder_block_1.attention.Linear_key</th>\n",
              "      <td>[512, 512]</td>\n",
              "      <td>[128, 256, 512]</td>\n",
              "      <td>262656.0</td>\n",
              "      <td>262144.0</td>\n",
              "    </tr>\n",
              "    <tr>\n",
              "      <th>5_decoder_block_1.attention.Linear_value</th>\n",
              "      <td>[512, 512]</td>\n",
              "      <td>[128, 256, 512]</td>\n",
              "      <td>262656.0</td>\n",
              "      <td>262144.0</td>\n",
              "    </tr>\n",
              "    <tr>\n",
              "      <th>6_decoder_block_1.attention.Linear_up_project</th>\n",
              "      <td>[512, 512]</td>\n",
              "      <td>[128, 256, 512]</td>\n",
              "      <td>262656.0</td>\n",
              "      <td>262144.0</td>\n",
              "    </tr>\n",
              "    <tr>\n",
              "      <th>7_decoder_block_1.Dropout_dropout_1</th>\n",
              "      <td>-</td>\n",
              "      <td>[128, 256, 512]</td>\n",
              "      <td>NaN</td>\n",
              "      <td>NaN</td>\n",
              "    </tr>\n",
              "    <tr>\n",
              "      <th>8_decoder_block_1.LayerNorm_layer_norm_1</th>\n",
              "      <td>[512]</td>\n",
              "      <td>[128, 256, 512]</td>\n",
              "      <td>1024.0</td>\n",
              "      <td>512.0</td>\n",
              "    </tr>\n",
              "    <tr>\n",
              "      <th>9_decoder_block_1.Linear_linear_1</th>\n",
              "      <td>[512, 512]</td>\n",
              "      <td>[128, 256, 512]</td>\n",
              "      <td>262656.0</td>\n",
              "      <td>262144.0</td>\n",
              "    </tr>\n",
              "    <tr>\n",
              "      <th>10_decoder_block_1.ReLU_relu</th>\n",
              "      <td>-</td>\n",
              "      <td>[128, 256, 512]</td>\n",
              "      <td>NaN</td>\n",
              "      <td>NaN</td>\n",
              "    </tr>\n",
              "    <tr>\n",
              "      <th>11_decoder_block_1.Linear_linear_2</th>\n",
              "      <td>[512, 512]</td>\n",
              "      <td>[128, 256, 512]</td>\n",
              "      <td>262656.0</td>\n",
              "      <td>262144.0</td>\n",
              "    </tr>\n",
              "    <tr>\n",
              "      <th>12_decoder_block_1.Dropout_dropout_2</th>\n",
              "      <td>-</td>\n",
              "      <td>[128, 256, 512]</td>\n",
              "      <td>NaN</td>\n",
              "      <td>NaN</td>\n",
              "    </tr>\n",
              "    <tr>\n",
              "      <th>13_decoder_block_1.LayerNorm_layer_norm_2</th>\n",
              "      <td>[512]</td>\n",
              "      <td>[128, 256, 512]</td>\n",
              "      <td>1024.0</td>\n",
              "      <td>512.0</td>\n",
              "    </tr>\n",
              "    <tr>\n",
              "      <th>14_decoder_block_2.attention.Linear_query</th>\n",
              "      <td>[512, 512]</td>\n",
              "      <td>[128, 256, 512]</td>\n",
              "      <td>262656.0</td>\n",
              "      <td>262144.0</td>\n",
              "    </tr>\n",
              "    <tr>\n",
              "      <th>15_decoder_block_2.attention.Linear_key</th>\n",
              "      <td>[512, 512]</td>\n",
              "      <td>[128, 256, 512]</td>\n",
              "      <td>262656.0</td>\n",
              "      <td>262144.0</td>\n",
              "    </tr>\n",
              "    <tr>\n",
              "      <th>16_decoder_block_2.attention.Linear_value</th>\n",
              "      <td>[512, 512]</td>\n",
              "      <td>[128, 256, 512]</td>\n",
              "      <td>262656.0</td>\n",
              "      <td>262144.0</td>\n",
              "    </tr>\n",
              "    <tr>\n",
              "      <th>17_decoder_block_2.attention.Linear_up_project</th>\n",
              "      <td>[512, 512]</td>\n",
              "      <td>[128, 256, 512]</td>\n",
              "      <td>262656.0</td>\n",
              "      <td>262144.0</td>\n",
              "    </tr>\n",
              "    <tr>\n",
              "      <th>18_decoder_block_2.Dropout_dropout_1</th>\n",
              "      <td>-</td>\n",
              "      <td>[128, 256, 512]</td>\n",
              "      <td>NaN</td>\n",
              "      <td>NaN</td>\n",
              "    </tr>\n",
              "    <tr>\n",
              "      <th>19_decoder_block_2.LayerNorm_layer_norm_1</th>\n",
              "      <td>[512]</td>\n",
              "      <td>[128, 256, 512]</td>\n",
              "      <td>1024.0</td>\n",
              "      <td>512.0</td>\n",
              "    </tr>\n",
              "    <tr>\n",
              "      <th>20_decoder_block_2.Linear_linear_1</th>\n",
              "      <td>[512, 512]</td>\n",
              "      <td>[128, 256, 512]</td>\n",
              "      <td>262656.0</td>\n",
              "      <td>262144.0</td>\n",
              "    </tr>\n",
              "    <tr>\n",
              "      <th>21_decoder_block_2.ReLU_relu</th>\n",
              "      <td>-</td>\n",
              "      <td>[128, 256, 512]</td>\n",
              "      <td>NaN</td>\n",
              "      <td>NaN</td>\n",
              "    </tr>\n",
              "    <tr>\n",
              "      <th>22_decoder_block_2.Linear_linear_2</th>\n",
              "      <td>[512, 512]</td>\n",
              "      <td>[128, 256, 512]</td>\n",
              "      <td>262656.0</td>\n",
              "      <td>262144.0</td>\n",
              "    </tr>\n",
              "    <tr>\n",
              "      <th>23_decoder_block_2.Dropout_dropout_2</th>\n",
              "      <td>-</td>\n",
              "      <td>[128, 256, 512]</td>\n",
              "      <td>NaN</td>\n",
              "      <td>NaN</td>\n",
              "    </tr>\n",
              "    <tr>\n",
              "      <th>24_decoder_block_2.LayerNorm_layer_norm_2</th>\n",
              "      <td>[512]</td>\n",
              "      <td>[128, 256, 512]</td>\n",
              "      <td>1024.0</td>\n",
              "      <td>512.0</td>\n",
              "    </tr>\n",
              "    <tr>\n",
              "      <th>25_decoder_block_3.attention.Linear_query</th>\n",
              "      <td>[512, 512]</td>\n",
              "      <td>[128, 256, 512]</td>\n",
              "      <td>262656.0</td>\n",
              "      <td>262144.0</td>\n",
              "    </tr>\n",
              "    <tr>\n",
              "      <th>26_decoder_block_3.attention.Linear_key</th>\n",
              "      <td>[512, 512]</td>\n",
              "      <td>[128, 256, 512]</td>\n",
              "      <td>262656.0</td>\n",
              "      <td>262144.0</td>\n",
              "    </tr>\n",
              "    <tr>\n",
              "      <th>27_decoder_block_3.attention.Linear_value</th>\n",
              "      <td>[512, 512]</td>\n",
              "      <td>[128, 256, 512]</td>\n",
              "      <td>262656.0</td>\n",
              "      <td>262144.0</td>\n",
              "    </tr>\n",
              "    <tr>\n",
              "      <th>28_decoder_block_3.attention.Linear_up_project</th>\n",
              "      <td>[512, 512]</td>\n",
              "      <td>[128, 256, 512]</td>\n",
              "      <td>262656.0</td>\n",
              "      <td>262144.0</td>\n",
              "    </tr>\n",
              "    <tr>\n",
              "      <th>29_decoder_block_3.Dropout_dropout_1</th>\n",
              "      <td>-</td>\n",
              "      <td>[128, 256, 512]</td>\n",
              "      <td>NaN</td>\n",
              "      <td>NaN</td>\n",
              "    </tr>\n",
              "    <tr>\n",
              "      <th>30_decoder_block_3.LayerNorm_layer_norm_1</th>\n",
              "      <td>[512]</td>\n",
              "      <td>[128, 256, 512]</td>\n",
              "      <td>1024.0</td>\n",
              "      <td>512.0</td>\n",
              "    </tr>\n",
              "    <tr>\n",
              "      <th>31_decoder_block_3.Linear_linear_1</th>\n",
              "      <td>[512, 512]</td>\n",
              "      <td>[128, 256, 512]</td>\n",
              "      <td>262656.0</td>\n",
              "      <td>262144.0</td>\n",
              "    </tr>\n",
              "    <tr>\n",
              "      <th>32_decoder_block_3.ReLU_relu</th>\n",
              "      <td>-</td>\n",
              "      <td>[128, 256, 512]</td>\n",
              "      <td>NaN</td>\n",
              "      <td>NaN</td>\n",
              "    </tr>\n",
              "    <tr>\n",
              "      <th>33_decoder_block_3.Linear_linear_2</th>\n",
              "      <td>[512, 512]</td>\n",
              "      <td>[128, 256, 512]</td>\n",
              "      <td>262656.0</td>\n",
              "      <td>262144.0</td>\n",
              "    </tr>\n",
              "    <tr>\n",
              "      <th>34_decoder_block_3.Dropout_dropout_2</th>\n",
              "      <td>-</td>\n",
              "      <td>[128, 256, 512]</td>\n",
              "      <td>NaN</td>\n",
              "      <td>NaN</td>\n",
              "    </tr>\n",
              "    <tr>\n",
              "      <th>35_decoder_block_3.LayerNorm_layer_norm_2</th>\n",
              "      <td>[512]</td>\n",
              "      <td>[128, 256, 512]</td>\n",
              "      <td>1024.0</td>\n",
              "      <td>512.0</td>\n",
              "    </tr>\n",
              "    <tr>\n",
              "      <th>36_projection</th>\n",
              "      <td>[512, 65]</td>\n",
              "      <td>[128, 256, 65]</td>\n",
              "      <td>33345.0</td>\n",
              "      <td>33280.0</td>\n",
              "    </tr>\n",
              "  </tbody>\n",
              "</table>\n",
              "</div>\n",
              "    <div class=\"colab-df-buttons\">\n",
              "\n",
              "  <div class=\"colab-df-container\">\n",
              "    <button class=\"colab-df-convert\" onclick=\"convertToInteractive('df-16045281-9929-4897-832a-a429929ef616')\"\n",
              "            title=\"Convert this dataframe to an interactive table.\"\n",
              "            style=\"display:none;\">\n",
              "\n",
              "  <svg xmlns=\"http://www.w3.org/2000/svg\" height=\"24px\" viewBox=\"0 -960 960 960\">\n",
              "    <path d=\"M120-120v-720h720v720H120Zm60-500h600v-160H180v160Zm220 220h160v-160H400v160Zm0 220h160v-160H400v160ZM180-400h160v-160H180v160Zm440 0h160v-160H620v160ZM180-180h160v-160H180v160Zm440 0h160v-160H620v160Z\"/>\n",
              "  </svg>\n",
              "    </button>\n",
              "\n",
              "  <style>\n",
              "    .colab-df-container {\n",
              "      display:flex;\n",
              "      gap: 12px;\n",
              "    }\n",
              "\n",
              "    .colab-df-convert {\n",
              "      background-color: #E8F0FE;\n",
              "      border: none;\n",
              "      border-radius: 50%;\n",
              "      cursor: pointer;\n",
              "      display: none;\n",
              "      fill: #1967D2;\n",
              "      height: 32px;\n",
              "      padding: 0 0 0 0;\n",
              "      width: 32px;\n",
              "    }\n",
              "\n",
              "    .colab-df-convert:hover {\n",
              "      background-color: #E2EBFA;\n",
              "      box-shadow: 0px 1px 2px rgba(60, 64, 67, 0.3), 0px 1px 3px 1px rgba(60, 64, 67, 0.15);\n",
              "      fill: #174EA6;\n",
              "    }\n",
              "\n",
              "    .colab-df-buttons div {\n",
              "      margin-bottom: 4px;\n",
              "    }\n",
              "\n",
              "    [theme=dark] .colab-df-convert {\n",
              "      background-color: #3B4455;\n",
              "      fill: #D2E3FC;\n",
              "    }\n",
              "\n",
              "    [theme=dark] .colab-df-convert:hover {\n",
              "      background-color: #434B5C;\n",
              "      box-shadow: 0px 1px 3px 1px rgba(0, 0, 0, 0.15);\n",
              "      filter: drop-shadow(0px 1px 2px rgba(0, 0, 0, 0.3));\n",
              "      fill: #FFFFFF;\n",
              "    }\n",
              "  </style>\n",
              "\n",
              "    <script>\n",
              "      const buttonEl =\n",
              "        document.querySelector('#df-16045281-9929-4897-832a-a429929ef616 button.colab-df-convert');\n",
              "      buttonEl.style.display =\n",
              "        google.colab.kernel.accessAllowed ? 'block' : 'none';\n",
              "\n",
              "      async function convertToInteractive(key) {\n",
              "        const element = document.querySelector('#df-16045281-9929-4897-832a-a429929ef616');\n",
              "        const dataTable =\n",
              "          await google.colab.kernel.invokeFunction('convertToInteractive',\n",
              "                                                    [key], {});\n",
              "        if (!dataTable) return;\n",
              "\n",
              "        const docLinkHtml = 'Like what you see? Visit the ' +\n",
              "          '<a target=\"_blank\" href=https://colab.research.google.com/notebooks/data_table.ipynb>data table notebook</a>'\n",
              "          + ' to learn more about interactive tables.';\n",
              "        element.innerHTML = '';\n",
              "        dataTable['output_type'] = 'display_data';\n",
              "        await google.colab.output.renderOutput(dataTable, element);\n",
              "        const docLink = document.createElement('div');\n",
              "        docLink.innerHTML = docLinkHtml;\n",
              "        element.appendChild(docLink);\n",
              "      }\n",
              "    </script>\n",
              "  </div>\n",
              "\n",
              "\n",
              "<div id=\"df-b1720b02-6cd6-468d-b997-57bfb51d91d3\">\n",
              "  <button class=\"colab-df-quickchart\" onclick=\"quickchart('df-b1720b02-6cd6-468d-b997-57bfb51d91d3')\"\n",
              "            title=\"Suggest charts.\"\n",
              "            style=\"display:none;\">\n",
              "\n",
              "<svg xmlns=\"http://www.w3.org/2000/svg\" height=\"24px\"viewBox=\"0 0 24 24\"\n",
              "     width=\"24px\">\n",
              "    <g>\n",
              "        <path d=\"M19 3H5c-1.1 0-2 .9-2 2v14c0 1.1.9 2 2 2h14c1.1 0 2-.9 2-2V5c0-1.1-.9-2-2-2zM9 17H7v-7h2v7zm4 0h-2V7h2v10zm4 0h-2v-4h2v4z\"/>\n",
              "    </g>\n",
              "</svg>\n",
              "  </button>\n",
              "\n",
              "<style>\n",
              "  .colab-df-quickchart {\n",
              "      --bg-color: #E8F0FE;\n",
              "      --fill-color: #1967D2;\n",
              "      --hover-bg-color: #E2EBFA;\n",
              "      --hover-fill-color: #174EA6;\n",
              "      --disabled-fill-color: #AAA;\n",
              "      --disabled-bg-color: #DDD;\n",
              "  }\n",
              "\n",
              "  [theme=dark] .colab-df-quickchart {\n",
              "      --bg-color: #3B4455;\n",
              "      --fill-color: #D2E3FC;\n",
              "      --hover-bg-color: #434B5C;\n",
              "      --hover-fill-color: #FFFFFF;\n",
              "      --disabled-bg-color: #3B4455;\n",
              "      --disabled-fill-color: #666;\n",
              "  }\n",
              "\n",
              "  .colab-df-quickchart {\n",
              "    background-color: var(--bg-color);\n",
              "    border: none;\n",
              "    border-radius: 50%;\n",
              "    cursor: pointer;\n",
              "    display: none;\n",
              "    fill: var(--fill-color);\n",
              "    height: 32px;\n",
              "    padding: 0;\n",
              "    width: 32px;\n",
              "  }\n",
              "\n",
              "  .colab-df-quickchart:hover {\n",
              "    background-color: var(--hover-bg-color);\n",
              "    box-shadow: 0 1px 2px rgba(60, 64, 67, 0.3), 0 1px 3px 1px rgba(60, 64, 67, 0.15);\n",
              "    fill: var(--button-hover-fill-color);\n",
              "  }\n",
              "\n",
              "  .colab-df-quickchart-complete:disabled,\n",
              "  .colab-df-quickchart-complete:disabled:hover {\n",
              "    background-color: var(--disabled-bg-color);\n",
              "    fill: var(--disabled-fill-color);\n",
              "    box-shadow: none;\n",
              "  }\n",
              "\n",
              "  .colab-df-spinner {\n",
              "    border: 2px solid var(--fill-color);\n",
              "    border-color: transparent;\n",
              "    border-bottom-color: var(--fill-color);\n",
              "    animation:\n",
              "      spin 1s steps(1) infinite;\n",
              "  }\n",
              "\n",
              "  @keyframes spin {\n",
              "    0% {\n",
              "      border-color: transparent;\n",
              "      border-bottom-color: var(--fill-color);\n",
              "      border-left-color: var(--fill-color);\n",
              "    }\n",
              "    20% {\n",
              "      border-color: transparent;\n",
              "      border-left-color: var(--fill-color);\n",
              "      border-top-color: var(--fill-color);\n",
              "    }\n",
              "    30% {\n",
              "      border-color: transparent;\n",
              "      border-left-color: var(--fill-color);\n",
              "      border-top-color: var(--fill-color);\n",
              "      border-right-color: var(--fill-color);\n",
              "    }\n",
              "    40% {\n",
              "      border-color: transparent;\n",
              "      border-right-color: var(--fill-color);\n",
              "      border-top-color: var(--fill-color);\n",
              "    }\n",
              "    60% {\n",
              "      border-color: transparent;\n",
              "      border-right-color: var(--fill-color);\n",
              "    }\n",
              "    80% {\n",
              "      border-color: transparent;\n",
              "      border-right-color: var(--fill-color);\n",
              "      border-bottom-color: var(--fill-color);\n",
              "    }\n",
              "    90% {\n",
              "      border-color: transparent;\n",
              "      border-bottom-color: var(--fill-color);\n",
              "    }\n",
              "  }\n",
              "</style>\n",
              "\n",
              "  <script>\n",
              "    async function quickchart(key) {\n",
              "      const quickchartButtonEl =\n",
              "        document.querySelector('#' + key + ' button');\n",
              "      quickchartButtonEl.disabled = true;  // To prevent multiple clicks.\n",
              "      quickchartButtonEl.classList.add('colab-df-spinner');\n",
              "      try {\n",
              "        const charts = await google.colab.kernel.invokeFunction(\n",
              "            'suggestCharts', [key], {});\n",
              "      } catch (error) {\n",
              "        console.error('Error during call to suggestCharts:', error);\n",
              "      }\n",
              "      quickchartButtonEl.classList.remove('colab-df-spinner');\n",
              "      quickchartButtonEl.classList.add('colab-df-quickchart-complete');\n",
              "    }\n",
              "    (() => {\n",
              "      let quickchartButtonEl =\n",
              "        document.querySelector('#df-b1720b02-6cd6-468d-b997-57bfb51d91d3 button');\n",
              "      quickchartButtonEl.style.display =\n",
              "        google.colab.kernel.accessAllowed ? 'block' : 'none';\n",
              "    })();\n",
              "  </script>\n",
              "</div>\n",
              "    </div>\n",
              "  </div>\n"
            ],
            "text/plain": [
              "                                               Kernel Shape     Output Shape  \\\n",
              "Layer                                                                          \n",
              "0_embedding_layer                                 [512, 65]  [128, 256, 512]   \n",
              "1_positional_embedding                           [512, 256]       [256, 512]   \n",
              "2_dropout_0                                               -  [128, 256, 512]   \n",
              "3_decoder_block_1.attention.Linear_query         [512, 512]  [128, 256, 512]   \n",
              "4_decoder_block_1.attention.Linear_key           [512, 512]  [128, 256, 512]   \n",
              "5_decoder_block_1.attention.Linear_value         [512, 512]  [128, 256, 512]   \n",
              "6_decoder_block_1.attention.Linear_up_project    [512, 512]  [128, 256, 512]   \n",
              "7_decoder_block_1.Dropout_dropout_1                       -  [128, 256, 512]   \n",
              "8_decoder_block_1.LayerNorm_layer_norm_1              [512]  [128, 256, 512]   \n",
              "9_decoder_block_1.Linear_linear_1                [512, 512]  [128, 256, 512]   \n",
              "10_decoder_block_1.ReLU_relu                              -  [128, 256, 512]   \n",
              "11_decoder_block_1.Linear_linear_2               [512, 512]  [128, 256, 512]   \n",
              "12_decoder_block_1.Dropout_dropout_2                      -  [128, 256, 512]   \n",
              "13_decoder_block_1.LayerNorm_layer_norm_2             [512]  [128, 256, 512]   \n",
              "14_decoder_block_2.attention.Linear_query        [512, 512]  [128, 256, 512]   \n",
              "15_decoder_block_2.attention.Linear_key          [512, 512]  [128, 256, 512]   \n",
              "16_decoder_block_2.attention.Linear_value        [512, 512]  [128, 256, 512]   \n",
              "17_decoder_block_2.attention.Linear_up_project   [512, 512]  [128, 256, 512]   \n",
              "18_decoder_block_2.Dropout_dropout_1                      -  [128, 256, 512]   \n",
              "19_decoder_block_2.LayerNorm_layer_norm_1             [512]  [128, 256, 512]   \n",
              "20_decoder_block_2.Linear_linear_1               [512, 512]  [128, 256, 512]   \n",
              "21_decoder_block_2.ReLU_relu                              -  [128, 256, 512]   \n",
              "22_decoder_block_2.Linear_linear_2               [512, 512]  [128, 256, 512]   \n",
              "23_decoder_block_2.Dropout_dropout_2                      -  [128, 256, 512]   \n",
              "24_decoder_block_2.LayerNorm_layer_norm_2             [512]  [128, 256, 512]   \n",
              "25_decoder_block_3.attention.Linear_query        [512, 512]  [128, 256, 512]   \n",
              "26_decoder_block_3.attention.Linear_key          [512, 512]  [128, 256, 512]   \n",
              "27_decoder_block_3.attention.Linear_value        [512, 512]  [128, 256, 512]   \n",
              "28_decoder_block_3.attention.Linear_up_project   [512, 512]  [128, 256, 512]   \n",
              "29_decoder_block_3.Dropout_dropout_1                      -  [128, 256, 512]   \n",
              "30_decoder_block_3.LayerNorm_layer_norm_1             [512]  [128, 256, 512]   \n",
              "31_decoder_block_3.Linear_linear_1               [512, 512]  [128, 256, 512]   \n",
              "32_decoder_block_3.ReLU_relu                              -  [128, 256, 512]   \n",
              "33_decoder_block_3.Linear_linear_2               [512, 512]  [128, 256, 512]   \n",
              "34_decoder_block_3.Dropout_dropout_2                      -  [128, 256, 512]   \n",
              "35_decoder_block_3.LayerNorm_layer_norm_2             [512]  [128, 256, 512]   \n",
              "36_projection                                     [512, 65]   [128, 256, 65]   \n",
              "\n",
              "                                                  Params  Mult-Adds  \n",
              "Layer                                                                \n",
              "0_embedding_layer                                33280.0    33280.0  \n",
              "1_positional_embedding                          131072.0   131072.0  \n",
              "2_dropout_0                                          NaN        NaN  \n",
              "3_decoder_block_1.attention.Linear_query        262656.0   262144.0  \n",
              "4_decoder_block_1.attention.Linear_key          262656.0   262144.0  \n",
              "5_decoder_block_1.attention.Linear_value        262656.0   262144.0  \n",
              "6_decoder_block_1.attention.Linear_up_project   262656.0   262144.0  \n",
              "7_decoder_block_1.Dropout_dropout_1                  NaN        NaN  \n",
              "8_decoder_block_1.LayerNorm_layer_norm_1          1024.0      512.0  \n",
              "9_decoder_block_1.Linear_linear_1               262656.0   262144.0  \n",
              "10_decoder_block_1.ReLU_relu                         NaN        NaN  \n",
              "11_decoder_block_1.Linear_linear_2              262656.0   262144.0  \n",
              "12_decoder_block_1.Dropout_dropout_2                 NaN        NaN  \n",
              "13_decoder_block_1.LayerNorm_layer_norm_2         1024.0      512.0  \n",
              "14_decoder_block_2.attention.Linear_query       262656.0   262144.0  \n",
              "15_decoder_block_2.attention.Linear_key         262656.0   262144.0  \n",
              "16_decoder_block_2.attention.Linear_value       262656.0   262144.0  \n",
              "17_decoder_block_2.attention.Linear_up_project  262656.0   262144.0  \n",
              "18_decoder_block_2.Dropout_dropout_1                 NaN        NaN  \n",
              "19_decoder_block_2.LayerNorm_layer_norm_1         1024.0      512.0  \n",
              "20_decoder_block_2.Linear_linear_1              262656.0   262144.0  \n",
              "21_decoder_block_2.ReLU_relu                         NaN        NaN  \n",
              "22_decoder_block_2.Linear_linear_2              262656.0   262144.0  \n",
              "23_decoder_block_2.Dropout_dropout_2                 NaN        NaN  \n",
              "24_decoder_block_2.LayerNorm_layer_norm_2         1024.0      512.0  \n",
              "25_decoder_block_3.attention.Linear_query       262656.0   262144.0  \n",
              "26_decoder_block_3.attention.Linear_key         262656.0   262144.0  \n",
              "27_decoder_block_3.attention.Linear_value       262656.0   262144.0  \n",
              "28_decoder_block_3.attention.Linear_up_project  262656.0   262144.0  \n",
              "29_decoder_block_3.Dropout_dropout_1                 NaN        NaN  \n",
              "30_decoder_block_3.LayerNorm_layer_norm_1         1024.0      512.0  \n",
              "31_decoder_block_3.Linear_linear_1              262656.0   262144.0  \n",
              "32_decoder_block_3.ReLU_relu                         NaN        NaN  \n",
              "33_decoder_block_3.Linear_linear_2              262656.0   262144.0  \n",
              "34_decoder_block_3.Dropout_dropout_2                 NaN        NaN  \n",
              "35_decoder_block_3.LayerNorm_layer_norm_2         1024.0      512.0  \n",
              "36_projection                                    33345.0    33280.0  "
            ]
          },
          "execution_count": 23,
          "metadata": {},
          "output_type": "execute_result"
        }
      ],
      "source": [
        "from torchsummaryX import summary\n",
        "model = LanguageModel()\n",
        "model.to(device)\n",
        "#model.load_state_dict(torch.load('/content/drive/MyDrive/ShakGPT_3_512.pt', map_location = device))\n",
        "summary(model, x)"
      ]
    },
    {
      "cell_type": "code",
      "execution_count": null,
      "metadata": {
        "colab": {
          "base_uri": "https://localhost:8080/"
        },
        "id": "mIqFrxOjexh-",
        "outputId": "33c8c875-6598-4c23-8860-2a557edc21d6"
      },
      "outputs": [
        {
          "name": "stdout",
          "output_type": "stream",
          "text": [
            "torch.Size([128, 256, 65])\n",
            "torch.Size([32768, 65])\n"
          ]
        }
      ],
      "source": [
        "#x, y = get_batch('train')\n",
        "logits, attention_weights = model.forward(x, return_attention_weights=True)\n",
        "print(logits.shape)\n",
        "B, T, vocab_size = logits.shape\n",
        "logits = logits.view(B*T, vocab_size)\n",
        "print(logits.shape)\n",
        "y = y.view(B*T)\n",
        "loss = F.cross_entropy(logits, y)"
      ]
    },
    {
      "cell_type": "code",
      "execution_count": null,
      "metadata": {
        "colab": {
          "base_uri": "https://localhost:8080/"
        },
        "id": "eOwIedqW6vGd",
        "outputId": "10f1920a-6a1c-406c-d37e-78be514b356f"
      },
      "outputs": [
        {
          "data": {
            "text/plain": [
              "tensor(1.2572, grad_fn=<NllLossBackward0>)"
            ]
          },
          "execution_count": 25,
          "metadata": {},
          "output_type": "execute_result"
        }
      ],
      "source": [
        "loss"
      ]
    },
    {
      "cell_type": "code",
      "execution_count": null,
      "metadata": {
        "id": "bhU8Y1xbnVyv"
      },
      "outputs": [],
      "source": [
        "optimizer = torch.optim.AdamW(model.parameters(), lr=1e-4)\n",
        "criterion = torch.nn.CrossEntropyLoss(label_smoothing=0.1)\n",
        "scheduler =  torch.optim.lr_scheduler.ReduceLROnPlateau(optimizer, factor=0.5, patience=4) #TODO"
      ]
    },
    {
      "cell_type": "code",
      "execution_count": null,
      "metadata": {
        "id": "xvNgfzVkYqpI"
      },
      "outputs": [],
      "source": [
        "optimizer.param_groups[0]['lr'] = 5e-5"
      ]
    },
    {
      "cell_type": "code",
      "execution_count": null,
      "metadata": {
        "id": "e2hmCO00dJWD"
      },
      "outputs": [],
      "source": [
        "import matplotlib.pyplot as plt\n",
        "def plot(attention_weights):\n",
        "    plt.figure(figsize=(64, 64))\n",
        "    fig, ax = plt.subplots()\n",
        "    cax = ax.matshow(attention_weights[0, 0, :50, :50].detach().cpu().numpy(), cmap='viridis')\n",
        "\n",
        "# Set the axis labels (optional)\n",
        "    ax.set_xticks(np.arange(50))\n",
        "    ax.set_yticks(np.arange(50))\n",
        "    ax.set_xticklabels(decode(x[0][:50].detach().cpu().numpy()))\n",
        "    ax.set_yticklabels(decode(x[0][:50].detach().cpu().numpy()))\n",
        "\n",
        "    # Rotate the tick labels and set their alignment (optional)\n",
        "    plt.setp(ax.get_xticklabels(), rotation=90, ha=\"right\", rotation_mode=\"anchor\")\n",
        "\n",
        "    # Add a colorbar\n",
        "    fig.colorbar(cax)\n",
        "\n",
        "    # Show the plot\n",
        "    plt.show()"
      ]
    },
    {
      "cell_type": "code",
      "execution_count": null,
      "metadata": {
        "colab": {
          "base_uri": "https://localhost:8080/",
          "height": 442
        },
        "id": "HcO1zS6TonjZ",
        "outputId": "cc8c8ef1-223f-4329-a6c5-d2b7a08d12de"
      },
      "outputs": [
        {
          "data": {
            "text/plain": [
              "<Figure size 6400x6400 with 0 Axes>"
            ]
          },
          "metadata": {},
          "output_type": "display_data"
        },
        {
          "data": {
            "image/png": "[encoded data removed]",
            "text/plain": [
              "<Figure size 640x480 with 2 Axes>"
            ]
          },
          "metadata": {},
          "output_type": "display_data"
        }
      ],
      "source": [
        "plot(attention_weights)"
      ]
    },
    {
      "cell_type": "code",
      "execution_count": null,
      "metadata": {
        "id": "GA6HkdLy6zXm"
      },
      "outputs": [],
      "source": [
        "class Trainer():\n",
        "    def __init__(self, model, train_loader, val_loader, optimizer, criterion):\n",
        "        self.model = model\n",
        "        self.train_loader = train_loader\n",
        "        self.val_loader = val_loader\n",
        "        self.epoch = 0\n",
        "        self.optimizer = optimizer\n",
        "        self.criterion = criterion\n",
        "        train_loss = 0\n",
        "\n",
        "\n",
        "    def train(self):\n",
        "        self.model.train()\n",
        "        total_loss = 0\n",
        "        for x, y in self.train_loader:\n",
        "            logits, attention_weights = self.model.forward(x, return_attention_weights=True)\n",
        "            B, T, C = logits.shape\n",
        "            logits = logits.view(B*T, C)\n",
        "            y = y.view(B*T)\n",
        "            loss = self.criterion(logits, y)\n",
        "            total_loss = total_loss + loss.item()\n",
        "\n",
        "            self.optimizer.zero_grad()\n",
        "            loss.backward()\n",
        "            self.optimizer.step()\n",
        "\n",
        "\n",
        "        epoch_loss = total_loss / len(train_loader)\n",
        "        self.epoch = self.epoch + 1\n",
        "        print(f\"Epoch: {self.epoch}\\nTrain Loss: {epoch_loss}, Train Perplexity: {np.exp(epoch_loss)}, LR: {self.optimizer.param_groups[0]['lr']}\")\n",
        "        return epoch_loss\n",
        "\n",
        "    @torch.no_grad()\n",
        "    def validate(self):\n",
        "        self.model.eval()\n",
        "        total_loss = 0\n",
        "        for x, y in self.val_loader:\n",
        "            logits = self.model.forward(x)\n",
        "            B, T, C = logits.shape\n",
        "            logits = logits.view(B*T, C)\n",
        "            y = y.view(B*T)\n",
        "            val_loss = self.criterion(logits, y)\n",
        "            total_loss = total_loss + val_loss.item()\n",
        "\n",
        "        epoch_loss = total_loss / len(self.val_loader)\n",
        "        print(f'Validation Loss: {epoch_loss}')\n",
        "        return epoch_loss\n",
        "\n",
        "    @torch.no_grad()\n",
        "    def generate(self, max_tokens, prompt, temperature = 1, top_p = 1):\n",
        "        self.model.eval()\n",
        "        for i in range(max_tokens):\n",
        "            logits = self.model.forward(prompt)\n",
        "            logit = logits[:, -1, :] # (B, C)\n",
        "            logit = logit / temperature\n",
        "            probs = F.softmax(logit, dim = -1)\n",
        "            weighted_probs = self.topPTransform(probs, top_p)\n",
        "            #token = torch.argmax(probs, dim = -1).view(-1, 1)\n",
        "            token = torch.multinomial(weighted_probs, num_samples = 1) # (B, 1)\n",
        "            prompt = torch.cat((prompt, token), dim = -1) # (B, T + 1)\n",
        "        return prompt\n",
        "\n",
        "    def topPTransform(self, probs, top_p):\n",
        "        probs_sorted_vals, probs_sort_idx = torch.sort(probs, descending=True)\n",
        "        prob_cumsum = torch.cumsum(probs_sorted_vals, dim = -1)\n",
        "\n",
        "        absolute_diff = torch.abs(prob_cumsum - top_p)\n",
        "        closest_index = torch.argmin(absolute_diff).item()\n",
        "        idx_to_remove = probs_sort_idx[:, closest_index + 1:]\n",
        "\n",
        "        mask = torch.ones_like(probs)\n",
        "        mask[:, idx_to_remove] = 0\n",
        "\n",
        "        probs = probs * mask\n",
        "        weighted_probs = probs / torch.sum(probs, dim = -1)\n",
        "        return weighted_probs\n",
        "\n",
        "\n",
        "\n",
        "\n",
        "    def save(self, path):\n",
        "        torch.save(self.model.state_dict(), path)\n",
        "        print(\"Model saved at \" + path)\n",
        "\n",
        "\n",
        "\n"
      ]
    },
    {
      "cell_type": "code",
      "execution_count": null,
      "metadata": {
        "id": "oxYfUAJKNpnR"
      },
      "outputs": [],
      "source": [
        "def wandb_config(epochs):\n",
        "        d = dict()\n",
        "        d['epochs'] = epochs\n",
        "        d['lr'] = 1e-4\n",
        "\n",
        "        return d\n"
      ]
    },
    {
      "cell_type": "code",
      "execution_count": null,
      "metadata": {
        "colab": {
          "base_uri": "https://localhost:8080/"
        },
        "id": "o4zQ0X0sNymy",
        "outputId": "57f4197d-075d-413f-a4c2-16507874e5e7"
      },
      "outputs": [
        {
          "name": "stderr",
          "output_type": "stream",
          "text": [
            "\u001b[34m\u001b[1mwandb\u001b[0m: W&B API key is configured. Use \u001b[1m`wandb login --relogin`\u001b[0m to force relogin\n",
            "\u001b[34m\u001b[1mwandb\u001b[0m: \u001b[33mWARNING\u001b[0m If you're specifying your api key in code, ensure this code is not shared publicly.\n",
            "\u001b[34m\u001b[1mwandb\u001b[0m: \u001b[33mWARNING\u001b[0m Consider setting the WANDB_API_KEY environment variable, or running `wandb login` from the command line.\n",
            "\u001b[34m\u001b[1mwandb\u001b[0m: Appending key for api.wandb.ai to your netrc file: /root/.netrc\n"
          ]
        },
        {
          "data": {
            "text/plain": [
              "True"
            ]
          },
          "execution_count": 30,
          "metadata": {},
          "output_type": "execute_result"
        }
      ],
      "source": [
        "import wandb\n",
        "wandb.login(key=\"\")"
      ]
    },
    {
      "cell_type": "code",
      "execution_count": null,
      "metadata": {
        "colab": {
          "base_uri": "https://localhost:8080/",
          "height": 122
        },
        "id": "zsRAEBSFN227",
        "outputId": "6ca93067-cc18-4d39-c02f-52be54208bc7"
      },
      "outputs": [
        {
          "name": "stderr",
          "output_type": "stream",
          "text": [
            "\u001b[34m\u001b[1mwandb\u001b[0m: Currently logged in as: \u001b[33mkrana\u001b[0m (\u001b[33mllm-tuning\u001b[0m). Use \u001b[1m`wandb login --relogin`\u001b[0m to force relogin\n"
          ]
        },
        {
          "data": {
            "text/html": [
              "Tracking run with wandb version 0.15.11"
            ],
            "text/plain": [
              "<IPython.core.display.HTML object>"
            ]
          },
          "metadata": {},
          "output_type": "display_data"
        },
        {
          "data": {
            "text/html": [
              "Run data is saved locally in <code>/content/wandb/run-20231004_001820-True</code>"
            ],
            "text/plain": [
              "<IPython.core.display.HTML object>"
            ]
          },
          "metadata": {},
          "output_type": "display_data"
        },
        {
          "data": {
            "text/html": [
              "Resuming run <strong><a href='https://wandb.ai/llm-tuning/shakespeare/runs/True' target=\"_blank\">shakGPT-decoder_3_512</a></strong> to <a href='https://wandb.ai/llm-tuning/shakespeare' target=\"_blank\">Weights & Biases</a> (<a href='https://wandb.me/run' target=\"_blank\">docs</a>)<br/>"
            ],
            "text/plain": [
              "<IPython.core.display.HTML object>"
            ]
          },
          "metadata": {},
          "output_type": "display_data"
        },
        {
          "data": {
            "text/html": [
              " View project at <a href='https://wandb.ai/llm-tuning/shakespeare' target=\"_blank\">https://wandb.ai/llm-tuning/shakespeare</a>"
            ],
            "text/plain": [
              "<IPython.core.display.HTML object>"
            ]
          },
          "metadata": {},
          "output_type": "display_data"
        },
        {
          "data": {
            "text/html": [
              " View run at <a href='https://wandb.ai/llm-tuning/shakespeare/runs/True' target=\"_blank\">https://wandb.ai/llm-tuning/shakespeare/runs/True</a>"
            ],
            "text/plain": [
              "<IPython.core.display.HTML object>"
            ]
          },
          "metadata": {},
          "output_type": "display_data"
        }
      ],
      "source": [
        "epochs = 800\n",
        "run = wandb.init(\n",
        "    name = \"shakGPT-decoder_3_512\", ## Wandb creates random run names if you skip this field\n",
        "    #reinit = True, ### Allows reinitalizing runs when you re-run this cell\n",
        "    #run_id = \"hr8c7o0i\", ### Insert specific run id here if you want to resume a previous run\n",
        "    resume = \"True\", ### You need this to resume previous runs, but comment out reinit = True when using this\n",
        "    project = \"shakespeare\", ### Project should be created in your wandb account\n",
        "    config = wandb_config(epochs) ### Wandb Config for your run\n",
        ")"
      ]
    },
    {
      "cell_type": "code",
      "execution_count": null,
      "metadata": {
        "colab": {
          "base_uri": "https://localhost:8080/",
          "height": 1000
        },
        "id": "fWiLDswz_KCJ",
        "outputId": "706fbe81-567c-47f6-cf17-6bc903bd9150"
      },
      "outputs": [],
      "source": [
        "trainer = Trainer(model = model, train_loader=train_loader, val_loader=val_loader, optimizer=optimizer, criterion = criterion)\n",
        "best_val_loss = float('inf')\n",
        "for epoch in range(epochs):\n",
        "    train_loss = trainer.train()\n",
        "    val_loss = trainer.validate()\n",
        "    #scheduler.step(val_loss)\n",
        "    if val_loss < best_val_loss:\n",
        "        trainer.save('/content/drive/MyDrive/ShakGPT_3_512.pt')\n",
        "        best_val_loss = val_loss\n",
        "    print(\"Generation: \" + decode(trainer.generate(prompt =\n",
        "                            torch.tensor(encode(\"BARNARDO: Who's there?\\nFRANCISCO: Nay, answer me. Stand and unfold yourself.\\nBARNARDO:\")).view(1, -1).to(device),\n",
        "                            max_tokens=170,\n",
        "                            top_p = 0.7)[0].tolist()))\n",
        "    wandb.log({\n",
        "            'train_loss': train_loss,\n",
        "            'val_loss': val_loss,\n",
        "            'lr'        : optimizer.param_groups[0]['lr'],\n",
        "        })\n",
        "\n",
        "    print('\\n')\n",
        "    if epoch == 700:\n",
        "        optimizer.param_groups[0]['lr'] = 1e-5"
      ]
    },
    {
      "cell_type": "code",
      "execution_count": null,
      "metadata": {
        "colab": {
          "base_uri": "https://localhost:8080/"
        },
        "id": "5HFn3hU0kqcu",
        "outputId": "6af36817-5148-4d9c-a91f-d65f3f0d1e43"
      },
      "outputs": [
        {
          "name": "stdout",
          "output_type": "stream",
          "text": [
            "ACT I\n",
            "\n",
            "SCENE I. Elsinore. A platform before the Castle.\n",
            "\n",
            "\n",
            "Enter Francisco and Barnardo, two sentinels.\n",
            "\n",
            "KING HENRY VI:\n",
            "Saw you will I know not where I was the defend?\n",
            "\n",
            "HENRY BOLINGBROKE:\n",
            "What you are you makes a gracious face?\n",
            "And that I know not of the world bear you?\n",
            "\n",
            "JOHN OF GAUNT:\n",
            "And with me thee with that strength so trouble to thee,\n",
            "Who should devotion me in means the bear.\n",
            "\n",
            "KING RICHARD II:\n",
            "What say you will prove this will come to any them?\n",
            "\n",
            "BISHOP OF ELY:\n",
            "What say you think?\n",
            "\n",
            "GLOUCESTER:\n",
            "\n",
            "Ghost of GARNE:\n",
            "\n",
            "Ghost of Ghost of of Gloucester the house\n",
            "of Gloucester of Gloucester house of the hand.\n",
            "\n",
            "Ghost of GGORY:\n",
            "Thou shalt have these thou stands of men\n",
            "Thy slain to him and him of the house of a doint:\n",
            "Which the was stay with my courteous to be death.\n",
            "\n",
            "HENRY BOLINGBROKE:\n",
            "She did not sh\n",
            "None\n"
          ]
        }
      ],
      "source": [
        "from random import uniform\n",
        "import time\n",
        "from IPython.display import display, clear_output\n",
        "\n",
        "def topPTransform(probs, top_p):\n",
        "        probs_sorted_vals, probs_sort_idx = torch.sort(probs, descending=True)\n",
        "        prob_cumsum = torch.cumsum(probs_sorted_vals, dim = -1)\n",
        "\n",
        "        absolute_diff = torch.abs(prob_cumsum - top_p)\n",
        "        closest_index = torch.argmin(absolute_diff).item()\n",
        "        idx_to_remove = probs_sort_idx[:, closest_index + 1:]\n",
        "\n",
        "        mask = torch.ones_like(probs)\n",
        "        mask[:, idx_to_remove] = 0\n",
        "\n",
        "        probs = probs * mask\n",
        "        weighted_probs = probs / torch.sum(probs, dim = -1)\n",
        "        return weighted_probs\n",
        "\n",
        "def persistent_generation(prompt, max_tokens, temperature = 1, top_p = 1):\n",
        "    generated_text = prompt\n",
        "    model.eval()\n",
        "    tokens = torch.tensor(encode(prompt)).reshape(1, -1).to(device)\n",
        "    buffer = 10\n",
        "    token_count = 0\n",
        "    while token_count < max_tokens:\n",
        "        if tokens.shape[-1] >= seq_len:\n",
        "            tokens = tokens[:, tokens.shape[-1] - seq_len + 10: ]\n",
        "        logits = model.forward(tokens)\n",
        "        logit = logits[:, -1, :] # (B, C)\n",
        "\n",
        "        # temperature\n",
        "        logit = logit / temperature\n",
        "\n",
        "        # top_p\n",
        "        probs = F.softmax(logit, dim = -1) # (B, C)\n",
        "        weighted_probs = topPTransform(probs, top_p)\n",
        "        predicted_token = torch.multinomial(weighted_probs, num_samples = 1) # (B, 1)\n",
        "        generated_text = generated_text + decode(predicted_token[0].cpu().detach().tolist())\n",
        "        tokens = torch.cat((tokens, predicted_token), dim = -1) # (B, T + 1) # (1, 1)\n",
        "        clear_output(wait=True)\n",
        "\n",
        "        print(generated_text)\n",
        "        token_count = token_count + 1\n",
        "\n",
        "        #time.sleep(0.01)\n",
        "\n",
        "print(persistent_generation(\"ACT I\\n\\nSCENE I. Elsinore. A platform before the Castle.\\n\\n\\nEnter Francisco and Barnardo, two sentinels.\", max_tokens = 700, top_p = 0.7))"
      ]
    },
    {
      "cell_type": "code",
      "execution_count": null,
      "metadata": {
        "id": "VPr8m4cMf6Aa"
      },
      "outputs": [],
      "source": []
    }
  ],
  "metadata": {
    "colab": {
      "provenance": []
    },
    "kernelspec": {
      "display_name": "Python 3",
      "name": "python3"
    },
    "language_info": {
      "name": "python"
    }
  },
  "nbformat": 4,
  "nbformat_minor": 0
}
